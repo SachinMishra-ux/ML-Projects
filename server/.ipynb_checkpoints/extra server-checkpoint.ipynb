{
 "cells": [
  {
   "cell_type": "code",
   "execution_count": null,
   "metadata": {},
   "outputs": [
    {
     "name": "stdout",
     "output_type": "stream",
     "text": [
      "Starting Python Flask Server For Home Price Prediction...\n",
      "loading saved artifacts...start\n",
      "loading saved artifacts...done\n",
      " * Serving Flask app \"__main__\" (lazy loading)\n",
      " * Environment: production\n",
      "   WARNING: This is a development server. Do not use it in a production deployment.\n",
      "   Use a production WSGI server instead.\n",
      " * Debug mode: off\n"
     ]
    },
    {
     "name": "stderr",
     "output_type": "stream",
     "text": [
      " * Running on http://127.0.0.1:5000/ (Press CTRL+C to quit)\n"
     ]
    }
   ],
   "source": [
    "from flask import Flask, request, jsonify\n",
    "import util\n",
    "\n",
    "app = Flask(__name__)\n",
    "\n",
    "@app.route('/get_location_names', methods=['GET'])\n",
    "def get_location_names():\n",
    "    response = jsonify({\n",
    "        'locations': util.get_location_names()\n",
    "    })\n",
    "    response.headers.add('Access-Control-Allow-Origin', '*')\n",
    "\n",
    "    return response\n",
    "\n",
    "@app.route('/get_area_type', methods=['GET'])\n",
    "def get_area_type():\n",
    "    response= jsonify({\n",
    "        'area_type': util.get_area_type()\n",
    "    })\n",
    "    response.headers.add('Access-Control-Allow-Origin', '*')\n",
    "\n",
    "    return response\n",
    "\n",
    "\n",
    "@app.route('/predict_home_price', methods=['POST'])\n",
    "def predict_home_price():\n",
    "    total_sqft = float(request.form['total_sqft'])\n",
    "    area_type= request.form['area_type']\n",
    "    location = request.form['location']\n",
    "    bhk = int(request.form['bhk'])\n",
    "    bath = int(request.form['bath'])\n",
    "\n",
    "    response = jsonify({\n",
    "        'estimated_price': util.get_estimated_price(area_type,location,total_sqft,bhk,bath)\n",
    "    })\n",
    "    response.headers.add('Access-Control-Allow-Origin', '*')\n",
    "\n",
    "    return response\n",
    "\n",
    "if __name__ == \"__main__\":\n",
    "    print(\"Starting Python Flask Server For Home Price Prediction...\")\n",
    "    util.load_saved_artifacts()\n",
    "    app.run()"
   ]
  },
  {
   "cell_type": "code",
   "execution_count": null,
   "metadata": {},
   "outputs": [],
   "source": []
  }
 ],
 "metadata": {
  "kernelspec": {
   "display_name": "Python 3",
   "language": "python",
   "name": "python3"
  },
  "language_info": {
   "codemirror_mode": {
    "name": "ipython",
    "version": 3
   },
   "file_extension": ".py",
   "mimetype": "text/x-python",
   "name": "python",
   "nbconvert_exporter": "python",
   "pygments_lexer": "ipython3",
   "version": "3.8.5"
  }
 },
 "nbformat": 4,
 "nbformat_minor": 4
}
