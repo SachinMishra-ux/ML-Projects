{
 "cells": [
  {
   "cell_type": "code",
   "execution_count": 11,
   "metadata": {},
   "outputs": [
    {
     "name": "stdout",
     "output_type": "stream",
     "text": [
      "loading saved artifacts...start\n",
      "loading saved artifacts...done\n",
      "None\n",
      "['location_1st phase jp nagar', 'location_2nd phase judicial layout', 'location_2nd stage nagarbhavi', 'location_5th block hbr layout', 'location_5th phase jp nagar', 'location_6th phase jp nagar', 'location_7th phase jp nagar', 'location_8th phase jp nagar', 'location_9th phase jp nagar', 'location_aecs layout', 'location_abbigere', 'location_akshaya nagar', 'location_ambalipura', 'location_ambedkar nagar', 'location_amruthahalli', 'location_anandapura', 'location_ananth nagar', 'location_anekal', 'location_anjanapura', 'location_ardendale', 'location_arekere', 'location_attibele', 'location_beml layout', 'location_btm 2nd stage', 'location_btm layout', 'location_babusapalaya', 'location_badavala nagar', 'location_balagere', 'location_banashankari', 'location_banashankari stage ii', 'location_banashankari stage iii', 'location_banashankari stage v', 'location_banashankari stage vi', 'location_banaswadi', 'location_banjara layout', 'location_bannerghatta', 'location_bannerghatta road', 'location_basavangudi', 'location_basaveshwara nagar', 'location_battarahalli', 'location_begur', 'location_begur road', 'location_bellandur', 'location_benson town', 'location_bharathi nagar', 'location_bhoganhalli', 'location_billekahalli', 'location_binny pete', 'location_bisuvanahalli', 'location_bommanahalli', 'location_bommasandra', 'location_bommasandra industrial area', 'location_bommenahalli', 'location_brookefield', 'location_budigere', 'location_cv raman nagar', 'location_chamrajpet', 'location_chandapura', 'location_channasandra', 'location_chikka tirupathi', 'location_chikkabanavar', 'location_chikkalasandra', 'location_choodasandra', 'location_cooke town', 'location_cox town', 'location_cunningham road', 'location_dasanapura', 'location_dasarahalli', 'location_devanahalli', 'location_devarachikkanahalli', 'location_dodda nekkundi', 'location_doddaballapur', 'location_doddakallasandra', 'location_doddathoguru', 'location_domlur', 'location_dommasandra', 'location_epip zone', 'location_electronic city', 'location_electronic city phase ii', 'location_electronics city phase 1', 'location_frazer town', 'location_gm palaya', 'location_garudachar palya', 'location_giri nagar', 'location_gollarapalya hosahalli', 'location_gottigere', 'location_green glen layout', 'location_gubbalala', 'location_gunjur', 'location_hal 2nd stage', 'location_hbr layout', 'location_hrbr layout', 'location_hsr layout', 'location_haralur road', 'location_harlur', 'location_hebbal', 'location_hebbal kempapura', 'location_hegde nagar', 'location_hennur', 'location_hennur road', 'location_hoodi', 'location_horamavu agara', 'location_horamavu banaswadi', 'location_hormavu', 'location_hosa road', 'location_hosakerehalli', 'location_hoskote', 'location_hosur road', 'location_hulimavu', 'location_isro layout', 'location_itpl', 'location_iblur village', 'location_indira nagar', 'location_jp nagar', 'location_jakkur', 'location_jalahalli', 'location_jalahalli east', 'location_jigani', 'location_judicial layout', 'location_kr puram', 'location_kadubeesanahalli', 'location_kadugodi', 'location_kaggadasapura', 'location_kaggalipura', 'location_kaikondrahalli', 'location_kalena agrahara', 'location_kalyan nagar', 'location_kambipura', 'location_kammanahalli', 'location_kammasandra', 'location_kanakapura', 'location_kanakpura road', 'location_kannamangala', 'location_karuna nagar', 'location_kasavanhalli', 'location_kasturi nagar', 'location_kathriguppe', 'location_kaval byrasandra', 'location_kenchenahalli', 'location_kengeri', 'location_kengeri satellite town', 'location_kereguddadahalli', 'location_kodichikkanahalli', 'location_kodigehaali', 'location_kodigehalli', 'location_kodihalli', 'location_kogilu', 'location_konanakunte', 'location_koramangala', 'location_kothannur', 'location_kothanur', 'location_kudlu', 'location_kudlu gate', 'location_kumaraswami layout', 'location_kundalahalli', 'location_lb shastri nagar', 'location_laggere', 'location_lakshminarayana pura', 'location_lingadheeranahalli', 'location_magadi road', 'location_mahadevpura', 'location_mahalakshmi layout', 'location_mallasandra', 'location_malleshpalya', 'location_malleshwaram', 'location_marathahalli', 'location_margondanahalli', 'location_marsur', 'location_mico layout', 'location_munnekollal', 'location_murugeshpalya', 'location_mysore road', 'location_ngr layout', 'location_nri layout', 'location_nagarbhavi', 'location_nagasandra', 'location_nagavara', 'location_nagavarapalya', 'location_narayanapura', 'location_neeladri nagar', 'location_nehru nagar', 'location_ombr layout', 'location_old airport road', 'location_old madras road', 'location_padmanabhanagar', 'location_pai layout', 'location_panathur', 'location_parappana agrahara', 'location_pattandur agrahara', 'location_poorna pragna layout', 'location_prithvi layout', 'location_r.t. nagar', 'location_rachenahalli', 'location_raja rajeshwari nagar', 'location_rajaji nagar', 'location_rajiv nagar', 'location_ramagondanahalli', 'location_ramamurthy nagar', 'location_rayasandra', 'location_sahakara nagar', 'location_sanjay nagar', 'location_sarakki nagar', 'location_sarjapur', 'location_sarjapur  road', 'location_sarjapura - attibele road', 'location_sector 2 hsr layout', 'location_sector 7 hsr layout', 'location_seegehalli', 'location_shampura', 'location_shivaji nagar', 'location_singasandra', 'location_somasundara palya', 'location_sompura', 'location_sonnenahalli', 'location_subramanyapura', 'location_sultan palaya', 'location_tc palaya', 'location_talaghattapura', 'location_thanisandra', 'location_thigalarapalya', 'location_thubarahalli', 'location_thyagaraja nagar', 'location_tindlu', 'location_tumkur road', 'location_ulsoor', 'location_uttarahalli', 'location_varthur', 'location_varthur road', 'location_vasanthapura', 'location_vidyaranyapura', 'location_vijayanagar', 'location_vishveshwarya layout', 'location_vishwapriya layout', 'location_vittasandra', 'location_whitefield', 'location_yelachenahalli', 'location_yelahanka', 'location_yelahanka new town', 'location_yelenahalli', 'location_yeshwanthpur', 'location_other']\n",
      "92.74\n",
      "192.64\n",
      "83.27\n",
      "47.96\n"
     ]
    }
   ],
   "source": [
    "import pickle\n",
    "import json\n",
    "import numpy as np \n",
    "\n",
    "__locations = None\n",
    "__data_columns = None\n",
    "__model = None\n",
    "\n",
    "def get_estimated_price(area_type,location,sqft,bhk,bath):\n",
    "    try:\n",
    "        loc_index = __data_columns.index(location.lower())\n",
    "        area_type_index= __data_columns.index(area_type.lower())\n",
    "    except:\n",
    "        loc_index = -1\n",
    "        area_type_index=-1\n",
    "\n",
    "    x = np.zeros(len(__data_columns))\n",
    "    x[0] = sqft\n",
    "    x[1] = bath\n",
    "    x[2] = bhk\n",
    "    if loc_index>=0:\n",
    "        x[loc_index] = 1\n",
    "        x[area_type_index] = 1\n",
    "\n",
    "\n",
    "    return round(__model.predict([x])[0],2)\n",
    "\n",
    "\n",
    "def load_saved_artifacts():\n",
    "    print(\"loading saved artifacts...start\")\n",
    "    global  __data_columns\n",
    "    global __locations\n",
    "\n",
    "    with open(\"columns.json\", \"r\") as f:\n",
    "        __data_columns = json.load(f)['data_columns']\n",
    "        __locations = __data_columns[7:]  # first 3 columns are sqft, bath, bhk\n",
    "        __area_type = __data_columns[3:7]\n",
    "\n",
    "    global __model\n",
    "    if __model is None:\n",
    "        with open('banglore_home_prices_model.pickle', 'rb') as f:\n",
    "            __model = pickle.load(f)\n",
    "    print(\"loading saved artifacts...done\")\n",
    "\n",
    "def get_location_names():\n",
    "    return __locations\n",
    "\n",
    "def get_area_type():\n",
    "    return __area_type    \n",
    "\n",
    "def get_data_columns():\n",
    "    return __data_columns\n",
    "\n",
    "if __name__ == '__main__':\n",
    "    load_saved_artifacts()\n",
    "    print(get_area_type())\n",
    "    print(get_location_names())\n",
    "    print(get_estimated_price('area_type_Carpet  Area','location_1st Phase JP Nagar',1000, 2, 2))\n",
    "    print(get_estimated_price('area_type_Carpet  Area','location_Indira Nagar',1000, 3, 3))\n",
    "    print(get_estimated_price('area_type_Super built-up  Area','location_other', 1000, 2, 2)) # other location\n",
    "    print(get_estimated_price('area_type_Plot  Area','location_Yelenahalli', 1000, 2, 2)) "
   ]
  },
  {
   "cell_type": "code",
   "execution_count": null,
   "metadata": {},
   "outputs": [],
   "source": []
  }
 ],
 "metadata": {
  "kernelspec": {
   "display_name": "Python 3",
   "language": "python",
   "name": "python3"
  },
  "language_info": {
   "codemirror_mode": {
    "name": "ipython",
    "version": 3
   },
   "file_extension": ".py",
   "mimetype": "text/x-python",
   "name": "python",
   "nbconvert_exporter": "python",
   "pygments_lexer": "ipython3",
   "version": "3.8.5"
  }
 },
 "nbformat": 4,
 "nbformat_minor": 4
}
